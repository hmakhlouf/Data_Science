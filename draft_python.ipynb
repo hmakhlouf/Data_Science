{
 "cells": [
  {
   "cell_type": "code",
   "execution_count": 1,
   "metadata": {},
   "outputs": [],
   "source": [
    "import math\n",
    "import seaborn as sns"
   ]
  },
  {
   "cell_type": "code",
   "execution_count": 2,
   "metadata": {},
   "outputs": [
    {
     "data": {
      "text/plain": [
       "9"
      ]
     },
     "execution_count": 2,
     "metadata": {},
     "output_type": "execute_result"
    }
   ],
   "source": [
    "(1+2)*3"
   ]
  },
  {
   "cell_type": "code",
   "execution_count": 3,
   "metadata": {},
   "outputs": [],
   "source": [
    "y = 'hello world'"
   ]
  },
  {
   "cell_type": "code",
   "execution_count": 4,
   "metadata": {},
   "outputs": [
    {
     "data": {
      "text/plain": [
       "'hello world'"
      ]
     },
     "execution_count": 4,
     "metadata": {},
     "output_type": "execute_result"
    }
   ],
   "source": [
    "y"
   ]
  },
  {
   "cell_type": "code",
   "execution_count": 5,
   "metadata": {},
   "outputs": [
    {
     "name": "stdout",
     "output_type": "stream",
     "text": [
      "hello world\n"
     ]
    }
   ],
   "source": [
    "print(y)"
   ]
  },
  {
   "cell_type": "code",
   "execution_count": 7,
   "metadata": {},
   "outputs": [],
   "source": [
    "f=85"
   ]
  },
  {
   "cell_type": "code",
   "execution_count": null,
   "metadata": {},
   "outputs": [],
   "source": []
  },
  {
   "cell_type": "code",
   "execution_count": 8,
   "metadata": {},
   "outputs": [],
   "source": [
    "c = (f-32)/1.8"
   ]
  },
  {
   "cell_type": "code",
   "execution_count": 9,
   "metadata": {},
   "outputs": [
    {
     "data": {
      "text/plain": [
       "29.444444444444443"
      ]
     },
     "execution_count": 9,
     "metadata": {},
     "output_type": "execute_result"
    }
   ],
   "source": [
    "c"
   ]
  },
  {
   "cell_type": "markdown",
   "metadata": {},
   "source": [
    "# statistics "
   ]
  },
  {
   "cell_type": "code",
   "execution_count": 1,
   "metadata": {},
   "outputs": [],
   "source": [
    "import numpy as np\n",
    "import seaborn as sns"
   ]
  },
  {
   "cell_type": "code",
   "execution_count": 2,
   "metadata": {},
   "outputs": [],
   "source": [
    "mu=0.5  # mean\n",
    "sigma=0.1  # standard deviation "
   ]
  },
  {
   "cell_type": "code",
   "execution_count": 3,
   "metadata": {},
   "outputs": [],
   "source": [
    "from numpy import random "
   ]
  },
  {
   "cell_type": "code",
   "execution_count": 4,
   "metadata": {},
   "outputs": [],
   "source": [
    "s=np.random.normal(mu,sigma,1000)"
   ]
  },
  {
   "cell_type": "code",
   "execution_count": 9,
   "metadata": {},
   "outputs": [
    {
     "data": {
      "text/plain": [
       "array([0.5226506 , 0.60924032, 0.56107874, 0.38267965, 0.44527919,\n",
       "       0.4597857 , 0.44168464, 0.42534295, 0.43735463, 0.39298677,\n",
       "       0.67010746, 0.52447464, 0.67392315, 0.5843862 , 0.62170494,\n",
       "       0.70361093, 0.38255621, 0.61020049, 0.49925503, 0.51648194,\n",
       "       0.57023248, 0.58530836, 0.63829159, 0.64470706, 0.37206783,\n",
       "       0.43898637, 0.58787681, 0.510123  , 0.43210724, 0.55086034,\n",
       "       0.3884484 , 0.19650732, 0.4414627 , 0.46794402, 0.50606574,\n",
       "       0.52857334, 0.56699286, 0.43390541, 0.40290088, 0.42287013,\n",
       "       0.43993709, 0.55999981, 0.40408752, 0.32951407, 0.55374666,\n",
       "       0.4585183 , 0.45037277, 0.44093995, 0.33495483, 0.62372571,\n",
       "       0.44865733, 0.51791823, 0.44288509, 0.57419006, 0.57379398,\n",
       "       0.56592718, 0.67318798, 0.6221558 , 0.70677199, 0.4768258 ,\n",
       "       0.66595329, 0.60748493, 0.53092856, 0.48783647, 0.53552482,\n",
       "       0.63334499, 0.4505536 , 0.5699354 , 0.4664532 , 0.49380019,\n",
       "       0.41303736, 0.40380383, 0.54700522, 0.50004544, 0.45756986,\n",
       "       0.49560096, 0.41629989, 0.54538689, 0.59555529, 0.43998521,\n",
       "       0.46449117, 0.35154845, 0.5012231 , 0.45350958, 0.42563569,\n",
       "       0.42754831, 0.47678032, 0.55720117, 0.36458295, 0.50820015,\n",
       "       0.49142314, 0.81057793, 0.7099009 , 0.37620632, 0.48920505,\n",
       "       0.4662084 , 0.32431215, 0.49343148, 0.61736688, 0.35855642,\n",
       "       0.36605164, 0.27337284, 0.38076719, 0.62352235, 0.55126449,\n",
       "       0.60732397, 0.36529715, 0.55904422, 0.47932971, 0.38107145,\n",
       "       0.38590276, 0.34288935, 0.47773734, 0.67998316, 0.4475053 ,\n",
       "       0.5044894 , 0.47161812, 0.44822618, 0.33774539, 0.10595646,\n",
       "       0.59170911, 0.53168946, 0.42283488, 0.38621795, 0.49068085,\n",
       "       0.46572667, 0.6619509 , 0.5214274 , 0.46280719, 0.46659591,\n",
       "       0.48810599, 0.64025029, 0.4701186 , 0.54198927, 0.50426064,\n",
       "       0.53243328, 0.5383091 , 0.5086614 , 0.52212558, 0.38017529,\n",
       "       0.57306199, 0.38412021, 0.47722357, 0.58462518, 0.42046497,\n",
       "       0.49166421, 0.42851989, 0.40779201, 0.56891271, 0.54378709,\n",
       "       0.35547625, 0.44801982, 0.40319799, 0.59983126, 0.36272212,\n",
       "       0.48130057, 0.61379248, 0.39752615, 0.32297155, 0.31984726,\n",
       "       0.53839342, 0.33525665, 0.55697914, 0.33883784, 0.60032304,\n",
       "       0.54817435, 0.6485925 , 0.31021219, 0.31624223, 0.48430507,\n",
       "       0.2900678 , 0.53974331, 0.44651645, 0.36538524, 0.36919849,\n",
       "       0.51426048, 0.68740316, 0.46751993, 0.51139342, 0.3361752 ,\n",
       "       0.36916465, 0.7032752 , 0.47412704, 0.72244338, 0.46602377,\n",
       "       0.51438855, 0.30288052, 0.46363324, 0.36778397, 0.52399253,\n",
       "       0.56839622, 0.70855064, 0.61509555, 0.68652039, 0.43656841,\n",
       "       0.53472233, 0.57315095, 0.41305714, 0.44814287, 0.46200004,\n",
       "       0.56591062, 0.57300047, 0.48555543, 0.61982826, 0.50258428,\n",
       "       0.31689957, 0.59758474, 0.52187209, 0.59418866, 0.51430158,\n",
       "       0.39398971, 0.39973088, 0.44783248, 0.49232022, 0.59586411,\n",
       "       0.65314088, 0.42428254, 0.53364287, 0.38382838, 0.19037936,\n",
       "       0.56302736, 0.54157286, 0.48685794, 0.6228235 , 0.53895534,\n",
       "       0.39406141, 0.43715074, 0.44708275, 0.54076238, 0.34284893,\n",
       "       0.43567379, 0.43529793, 0.56587578, 0.6317288 , 0.51112027,\n",
       "       0.44604687, 0.54672566, 0.48317093, 0.52756778, 0.6203109 ,\n",
       "       0.48230305, 0.48289622, 0.52777531, 0.42575178, 0.45386042,\n",
       "       0.30404325, 0.47502673, 0.36698558, 0.62198225, 0.5208631 ,\n",
       "       0.36399306, 0.44712214, 0.42041951, 0.48019216, 0.49099043,\n",
       "       0.54866185, 0.61502317, 0.56836364, 0.50007132, 0.4268152 ,\n",
       "       0.3798926 , 0.55861977, 0.48732162, 0.66761951, 0.46561277,\n",
       "       0.48438903, 0.53461656, 0.43894029, 0.46657592, 0.41641535,\n",
       "       0.66534936, 0.48832314, 0.41088062, 0.43261784, 0.44088963,\n",
       "       0.51435665, 0.66298963, 0.50756252, 0.46780464, 0.3614846 ,\n",
       "       0.42554487, 0.34149777, 0.34105567, 0.52212192, 0.53223181,\n",
       "       0.47438218, 0.62143273, 0.45877612, 0.51118639, 0.53225563,\n",
       "       0.70319105, 0.47478766, 0.56081369, 0.40135232, 0.6763544 ,\n",
       "       0.50326057, 0.59775992, 0.27557844, 0.62283362, 0.6033932 ,\n",
       "       0.41984896, 0.52605995, 0.49265216, 0.72685599, 0.356977  ,\n",
       "       0.46412586, 0.47787142, 0.54575332, 0.64343575, 0.52324571,\n",
       "       0.53662869, 0.55830598, 0.51961272, 0.4791413 , 0.45468568,\n",
       "       0.46050193, 0.52768823, 0.31206821, 0.61568939, 0.49717277,\n",
       "       0.47484184, 0.51594191, 0.63287661, 0.37420002, 0.47400024,\n",
       "       0.53291134, 0.40442805, 0.39025228, 0.4153166 , 0.53645522,\n",
       "       0.49158106, 0.47265193, 0.67305865, 0.48031325, 0.51765547,\n",
       "       0.67348476, 0.55007463, 0.54304658, 0.45780274, 0.3953787 ,\n",
       "       0.49867453, 0.4451929 , 0.42321583, 0.56949385, 0.66908822,\n",
       "       0.39821896, 0.54541022, 0.60592057, 0.48551292, 0.560944  ,\n",
       "       0.33630927, 0.55284301, 0.5612041 , 0.50543851, 0.53280592,\n",
       "       0.6167017 , 0.63885995, 0.57550804, 0.4771169 , 0.65351833,\n",
       "       0.62335447, 0.24676903, 0.47360379, 0.58425929, 0.33948109,\n",
       "       0.53576855, 0.31902084, 0.45539004, 0.65634961, 0.47566718,\n",
       "       0.51187437, 0.42385794, 0.60166458, 0.49555506, 0.50926315,\n",
       "       0.59618627, 0.39631549, 0.45914344, 0.57384555, 0.42986314,\n",
       "       0.51174944, 0.5990557 , 0.56238821, 0.70287482, 0.45488914,\n",
       "       0.51053957, 0.59261009, 0.58226999, 0.50003499, 0.43390746,\n",
       "       0.66090614, 0.58413773, 0.43671603, 0.45700429, 0.39004679,\n",
       "       0.4183427 , 0.41445763, 0.31704943, 0.52418461, 0.52965709,\n",
       "       0.5800098 , 0.62777991, 0.40318784, 0.57954382, 0.60378464,\n",
       "       0.38339607, 0.70433861, 0.5693198 , 0.4003286 , 0.57395142,\n",
       "       0.46272514, 0.69722821, 0.44643852, 0.60145691, 0.57625434,\n",
       "       0.32857289, 0.59602467, 0.41942894, 0.45047262, 0.26918735,\n",
       "       0.61842576, 0.44541555, 0.61234926, 0.49046082, 0.54310814,\n",
       "       0.38414903, 0.52555082, 0.41754142, 0.52275013, 0.46769195,\n",
       "       0.49144277, 0.5400132 , 0.30723235, 0.48516248, 0.46803229,\n",
       "       0.55846699, 0.49459764, 0.63485403, 0.4922151 , 0.37313598,\n",
       "       0.39127833, 0.46215715, 0.39694176, 0.56600163, 0.63545194,\n",
       "       0.57102403, 0.35999706, 0.43591633, 0.55880761, 0.68544998,\n",
       "       0.47593443, 0.41408234, 0.51161441, 0.51156174, 0.58777577,\n",
       "       0.50847362, 0.57737337, 0.38872656, 0.63936542, 0.48527914,\n",
       "       0.5952533 , 0.51407923, 0.62356212, 0.52698585, 0.35233149,\n",
       "       0.36697291, 0.50548484, 0.59590249, 0.41628508, 0.3766041 ,\n",
       "       0.60535701, 0.52973321, 0.48714608, 0.60939496, 0.30612661,\n",
       "       0.46499568, 0.35430086, 0.60620552, 0.59749953, 0.52190169,\n",
       "       0.41342073, 0.58897817, 0.41848304, 0.38541079, 0.44311494,\n",
       "       0.35136752, 0.51985777, 0.64190109, 0.5617104 , 0.37274353,\n",
       "       0.45052456, 0.45925101, 0.5159802 , 0.38837549, 0.40442988,\n",
       "       0.63155224, 0.59859972, 0.77173728, 0.62208488, 0.35874866,\n",
       "       0.60160615, 0.48579228, 0.47359959, 0.68531513, 0.58932323,\n",
       "       0.54739893, 0.4759184 , 0.64660542, 0.6046181 , 0.45705347,\n",
       "       0.57816963, 0.45506682, 0.52830899, 0.63816338, 0.41149636,\n",
       "       0.45717154, 0.64407469, 0.55834514, 0.45527969, 0.47830423,\n",
       "       0.41728005, 0.58984324, 0.53766631, 0.65553168, 0.36689634,\n",
       "       0.39934807, 0.49999277, 0.61621399, 0.64050157, 0.5975606 ,\n",
       "       0.47290705, 0.30322654, 0.25059906, 0.57325002, 0.56129513,\n",
       "       0.40249105, 0.3268618 , 0.53193049, 0.37927391, 0.52491124,\n",
       "       0.41435949, 0.57338552, 0.45771521, 0.35300536, 0.42933516,\n",
       "       0.43235405, 0.34433568, 0.49879386, 0.62030286, 0.35755798,\n",
       "       0.47456947, 0.50549922, 0.59578442, 0.42790932, 0.55227222,\n",
       "       0.49173343, 0.36295   , 0.54113869, 0.59528065, 0.60193327,\n",
       "       0.42593986, 0.54626373, 0.46953106, 0.43254   , 0.53259601,\n",
       "       0.53320034, 0.36049499, 0.54806954, 0.55981683, 0.43298806,\n",
       "       0.49443063, 0.43510796, 0.38631499, 0.56315045, 0.53792948,\n",
       "       0.49610996, 0.39818974, 0.66901417, 0.4749641 , 0.46311262,\n",
       "       0.4551531 , 0.41475198, 0.28551101, 0.33909403, 0.49682921,\n",
       "       0.53372511, 0.58481153, 0.64676609, 0.42518332, 0.49455452,\n",
       "       0.45613531, 0.67059337, 0.53099723, 0.57227231, 0.54622803,\n",
       "       0.52589763, 0.4444634 , 0.26906603, 0.61043063, 0.45415023,\n",
       "       0.6631511 , 0.52183964, 0.51896948, 0.51853151, 0.49845209,\n",
       "       0.59678   , 0.52446081, 0.35313254, 0.36450957, 0.36923265,\n",
       "       0.50004675, 0.41010493, 0.44113036, 0.40986639, 0.49800836,\n",
       "       0.49373978, 0.61967936, 0.32719665, 0.53571562, 0.4750676 ,\n",
       "       0.54627446, 0.39392367, 0.5740203 , 0.62311046, 0.59812645,\n",
       "       0.448387  , 0.43917463, 0.50784838, 0.36151352, 0.44432633,\n",
       "       0.63303315, 0.50533368, 0.6403452 , 0.48771568, 0.39757653,\n",
       "       0.51741226, 0.43659999, 0.47283183, 0.30793473, 0.57304253,\n",
       "       0.61159222, 0.41036709, 0.60981735, 0.3457166 , 0.47864589,\n",
       "       0.49152752, 0.59169195, 0.50802734, 0.52427052, 0.47928147,\n",
       "       0.34009212, 0.64678205, 0.41800497, 0.56179568, 0.40038083,\n",
       "       0.2669992 , 0.47159611, 0.45858671, 0.51165081, 0.46212335,\n",
       "       0.58886104, 0.55172167, 0.4127076 , 0.45053457, 0.48723406,\n",
       "       0.58497444, 0.5530285 , 0.56568019, 0.50064174, 0.53825981,\n",
       "       0.61651566, 0.62610581, 0.29355011, 0.55940437, 0.60572821,\n",
       "       0.43420725, 0.66464996, 0.53002784, 0.55769447, 0.6038622 ,\n",
       "       0.45646498, 0.47099922, 0.56182947, 0.644496  , 0.58727615,\n",
       "       0.56890079, 0.56745216, 0.67703971, 0.44483638, 0.47004703,\n",
       "       0.52546933, 0.43160439, 0.48825824, 0.5862274 , 0.49960966,\n",
       "       0.48894654, 0.47598422, 0.41837633, 0.42557887, 0.41101381,\n",
       "       0.46603952, 0.52731524, 0.67027377, 0.59671591, 0.70685141,\n",
       "       0.46684613, 0.45295868, 0.46319184, 0.57209508, 0.48340172,\n",
       "       0.53835336, 0.48349277, 0.51227129, 0.55314033, 0.36206581,\n",
       "       0.58849648, 0.4454223 , 0.51665332, 0.4668899 , 0.61331233,\n",
       "       0.45527853, 0.51121511, 0.46930173, 0.54757735, 0.56295893,\n",
       "       0.39981594, 0.51315247, 0.51374937, 0.4487925 , 0.47625289,\n",
       "       0.31967739, 0.25577135, 0.48981641, 0.49755386, 0.52320877,\n",
       "       0.48571734, 0.59348787, 0.67959605, 0.49125217, 0.54015612,\n",
       "       0.51305117, 0.64738514, 0.42747281, 0.55302763, 0.34179541,\n",
       "       0.58676598, 0.59656575, 0.39494516, 0.63341648, 0.51289143,\n",
       "       0.61922366, 0.58702144, 0.4691642 , 0.45102713, 0.54481303,\n",
       "       0.54317503, 0.38695269, 0.49877633, 0.59256381, 0.60041616,\n",
       "       0.46182355, 0.40089003, 0.41103027, 0.34239456, 0.38356634,\n",
       "       0.53061302, 0.5586821 , 0.4720327 , 0.61576681, 0.41026072,\n",
       "       0.42767099, 0.47525856, 0.43854279, 0.40433593, 0.51849998,\n",
       "       0.44962552, 0.48996932, 0.46867094, 0.56587202, 0.4917989 ,\n",
       "       0.59450156, 0.72692588, 0.58310992, 0.51436946, 0.36144405,\n",
       "       0.59943139, 0.53252882, 0.5413421 , 0.49697576, 0.56284757,\n",
       "       0.43254112, 0.49494993, 0.51102956, 0.48671335, 0.48659842,\n",
       "       0.44334187, 0.6845694 , 0.48951761, 0.53997035, 0.59371868,\n",
       "       0.43067688, 0.64904518, 0.58732138, 0.58417788, 0.49937879,\n",
       "       0.54635204, 0.39435001, 0.45036625, 0.30572815, 0.59247708,\n",
       "       0.36644386, 0.54016284, 0.49269256, 0.43574408, 0.53991816,\n",
       "       0.48023933, 0.42345067, 0.59527946, 0.37989113, 0.51592961,\n",
       "       0.55081977, 0.47397151, 0.49806055, 0.47890851, 0.38819502,\n",
       "       0.62419043, 0.54120131, 0.39991247, 0.3829218 , 0.47358168,\n",
       "       0.54200932, 0.67920214, 0.51642238, 0.43034786, 0.42100242,\n",
       "       0.50529081, 0.47074351, 0.64839336, 0.54250804, 0.60969031,\n",
       "       0.52815908, 0.44735635, 0.51433939, 0.59607694, 0.52786609,\n",
       "       0.38252281, 0.39006875, 0.49934258, 0.53318523, 0.27862897,\n",
       "       0.56710218, 0.60034926, 0.55308612, 0.59456181, 0.64534654,\n",
       "       0.52147495, 0.55851562, 0.59493257, 0.40556555, 0.53122896,\n",
       "       0.48851567, 0.51291159, 0.6108294 , 0.71778319, 0.36612752,\n",
       "       0.41784887, 0.50340525, 0.35393393, 0.401427  , 0.50396623,\n",
       "       0.60708904, 0.62828897, 0.36263719, 0.5167154 , 0.26993101,\n",
       "       0.34236364, 0.47676383, 0.6665812 , 0.51348021, 0.44745992,\n",
       "       0.60262074, 0.42633718, 0.47916892, 0.59878577, 0.37701223,\n",
       "       0.45556864, 0.53755121, 0.51530423, 0.56086031, 0.33054582,\n",
       "       0.55312293, 0.61013114, 0.44978516, 0.61435895, 0.47427304,\n",
       "       0.47922601, 0.47653198, 0.50559465, 0.51473306, 0.52379489,\n",
       "       0.56805938, 0.36114318, 0.49483258, 0.59790613, 0.48757715,\n",
       "       0.58062241, 0.53618371, 0.55920846, 0.34942775, 0.46134707,\n",
       "       0.54157168, 0.37295652, 0.25565118, 0.47874892, 0.35862392,\n",
       "       0.42212162, 0.51178883, 0.58286547, 0.49749553, 0.62004461,\n",
       "       0.65559064, 0.68007107, 0.51066676, 0.611608  , 0.32936935,\n",
       "       0.51845906, 0.37889674, 0.45705364, 0.61711422, 0.55696555,\n",
       "       0.40105683, 0.47029843, 0.47190712, 0.39490567, 0.56491914,\n",
       "       0.48942448, 0.38661805, 0.44451696, 0.55703989, 0.41535326,\n",
       "       0.49868135, 0.62546457, 0.63743238, 0.71301823, 0.46417532,\n",
       "       0.45298476, 0.6646328 , 0.51377004, 0.64980268, 0.57409704,\n",
       "       0.57302797, 0.44261427, 0.43910991, 0.37809059, 0.58191798,\n",
       "       0.39072569, 0.65403691, 0.47083302, 0.53614221, 0.51225241,\n",
       "       0.58129295, 0.35650248, 0.73755694, 0.55175041, 0.45493334,\n",
       "       0.61879527, 0.53192007, 0.36441417, 0.51980376, 0.48037548,\n",
       "       0.61421177, 0.45691053, 0.48385149, 0.5681239 , 0.4692323 ,\n",
       "       0.57391774, 0.52082029, 0.53174348, 0.6152079 , 0.48564576,\n",
       "       0.40277275, 0.6196159 , 0.49185066, 0.75909894, 0.52634874,\n",
       "       0.5609663 , 0.58854329, 0.4652092 , 0.61225099, 0.53999199,\n",
       "       0.48524392, 0.43288608, 0.51744094, 0.41174213, 0.47335772,\n",
       "       0.61953877, 0.44399285, 0.51104317, 0.69799437, 0.57848884])"
      ]
     },
     "execution_count": 9,
     "metadata": {},
     "output_type": "execute_result"
    }
   ],
   "source": [
    "#print(s)\n",
    "s"
   ]
  },
  {
   "cell_type": "code",
   "execution_count": 8,
   "metadata": {},
   "outputs": [
    {
     "data": {
      "text/plain": [
       "1000"
      ]
     },
     "execution_count": 8,
     "metadata": {},
     "output_type": "execute_result"
    }
   ],
   "source": [
    "len(s)"
   ]
  },
  {
   "cell_type": "code",
   "execution_count": 11,
   "metadata": {},
   "outputs": [],
   "source": [
    "import warnings \n",
    "warnings.filterwarnings('ignore')"
   ]
  },
  {
   "cell_type": "code",
   "execution_count": 13,
   "metadata": {},
   "outputs": [
    {
     "data": {
      "text/plain": [
       "<matplotlib.axes._subplots.AxesSubplot at 0x7fba2a4f1890>"
      ]
     },
     "execution_count": 13,
     "metadata": {},
     "output_type": "execute_result"
    },
    {
     "data": {
      "image/png": "[encoded data removed]",
      "text/plain": [
       "<Figure size 432x288 with 1 Axes>"
      ]
     },
     "metadata": {
      "needs_background": "light"
     },
     "output_type": "display_data"
    }
   ],
   "source": [
    "sns.distplot(s)"
   ]
  },
  {
   "cell_type": "code",
   "execution_count": null,
   "metadata": {},
   "outputs": [],
   "source": []
  }
 ],
 "metadata": {
  "kernelspec": {
   "display_name": "Python 3",
   "language": "python",
   "name": "python3"
  },
  "language_info": {
   "codemirror_mode": {
    "name": "ipython",
    "version": 3
   },
   "file_extension": ".py",
   "mimetype": "text/x-python",
   "name": "python",
   "nbconvert_exporter": "python",
   "pygments_lexer": "ipython3",
   "version": "3.7.4"
  }
 },
 "nbformat": 4,
 "nbformat_minor": 2
}
